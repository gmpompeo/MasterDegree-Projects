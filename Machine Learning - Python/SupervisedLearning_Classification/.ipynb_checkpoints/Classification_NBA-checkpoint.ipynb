{
 "cells": [
  {
   "cell_type": "markdown",
   "metadata": {},
   "source": [
    "# Classification of NBA players role\n",
    "\n",
    "## IMPORTANT: make sure to rerun all the code from the beginning to obtain the results for the final version of your notebook, since this is the way we will do it before evaluting your notebook!\n",
    "\n",
    "### Dataset description\n",
    "\n",
    "We will be working with a dataset of NBA basketball players data (you can get from https://www.kaggle.com/jacobbaruch/nba-player-of-the-week the full dataset).\n",
    "\n",
    "The provided data is a subset of the full dataset containing the players that have the role of Center and of Point Guard. For each player the dataset contains the height, weight and age.\n",
    "\n",
    "From Wikipedia:\n",
    "\n",
    "The Center (C), also known as the five, or the big man, is one of the five positions in a regular basketball game. The center is normally the tallest player on the team, and often has a great deal of strength and body mass as well. In the NBA, the center is usually 6' 10\" (2.08 m) or taller and usually weighs 240 lbs (109 kg) or more. \n",
    "\n",
    "Point Guards (PG, a.k.a. as \"play maker\") are expected to run the team's offense by controlling the ball and making sure that it gets to the right players at the right time. In the NBA, point guards are usually about 6' 3\" (1.93 m) or shorter, and average about 6' 2\" (1.88 m). Having above-average size (height, muscle) is considered advantageous, although size is secondary to situational awareness, speed, quickness, and ball handling skills. Shorter players tend to be better dribblers since they are closer to the floor, and thus have better control of the ball while dribbling. \n",
    "\n",
    "As it is clear from the description, the height and weight of the player are good hints to predict their role and in this lab we'll exploit these features to estimate the role.\n",
    "\n",
    "\n",
    "### Three features are present in this dataset:\n",
    "\n",
    "\n",
    "1) Height in cm\n",
    "\n",
    "2) Weight in kg\n",
    "\n",
    "3) Age in years\n",
    "\n"
   ]
  },
  {
   "cell_type": "markdown",
   "metadata": {},
   "source": [
    "We first import all the packages that are needed."
   ]
  },
  {
   "cell_type": "code",
   "execution_count": 1,
   "metadata": {},
   "outputs": [],
   "source": [
    "%matplotlib inline\n",
    "import matplotlib.pyplot as plt\n",
    "import csv\n",
    "\n",
    "import numpy as np\n",
    "import scipy as sp\n",
    "import sklearn as sl\n",
    "from scipy import stats\n",
    "from sklearn import datasets\n",
    "from sklearn import linear_model\n",
    "from sklearn.utils import shuffle"
   ]
  },
  {
   "cell_type": "markdown",
   "metadata": {},
   "source": [
    "# Perceptron\n",
    "We will implement the perceptron and use it to learn a halfspace."
   ]
  },
  {
   "cell_type": "markdown",
   "metadata": {},
   "source": [
    "**TO DO** Set the random seed to your ID (matricola)."
   ]
  },
  {
   "cell_type": "code",
   "execution_count": 2,
   "metadata": {},
   "outputs": [],
   "source": [
    "IDnumber = 1183847\n",
    "np.random.seed(IDnumber)"
   ]
  },
  {
   "cell_type": "markdown",
   "metadata": {},
   "source": [
    "Load the dataset and then split in training set and test set (50%-50%) after applying a random permutation to the datset."
   ]
  },
  {
   "cell_type": "code",
   "execution_count": 3,
   "metadata": {},
   "outputs": [
    {
     "name": "stdout",
     "output_type": "stream",
     "text": [
      "['Position', 'Height cm', 'kg', 'Age']\n"
     ]
    }
   ],
   "source": [
    "#load the dataset\n",
    "filename = 'data/NBA.csv'\n",
    "NBA = csv.reader(open(filename, newline=''), delimiter=',')\n",
    "\n",
    "header = next(NBA) #skip first line\n",
    "print(header)\n",
    "\n",
    "dataset = list(NBA)\n",
    "for i in range(len(dataset)):\n",
    "    dataset[i] = [int(x) for x in dataset[i]]\n",
    "    \n",
    "dataset = np.asarray(dataset)\n",
    "\n",
    "X = dataset[:,1:3]\n",
    "Y = dataset[:,0]\n",
    "\n",
    "Y = Y*2-1  # set labels to -1, 1 as required by perceptron implementation\n",
    "\n",
    "m = dataset.shape[0]\n",
    "permutation = np.random.permutation(m)\n",
    "\n",
    "X = X[permutation]\n",
    "Y = Y[permutation]"
   ]
  },
  {
   "cell_type": "markdown",
   "metadata": {},
   "source": [
    "We are going to classify class \"1\" (Center) vs class \"-1\" (Point Guard)"
   ]
  },
  {
   "cell_type": "markdown",
   "metadata": {},
   "source": [
    "**TO DO** Divide the data into training set and test set (50% of the data each)"
   ]
  },
  {
   "cell_type": "code",
   "execution_count": 4,
   "metadata": {},
   "outputs": [
    {
     "name": "stdout",
     "output_type": "stream",
     "text": [
      "130 130\n"
     ]
    }
   ],
   "source": [
    "#Divide in training and test: make sure that your training set\n",
    "#contains at least 10 elements from class 1 and at least 10 elements\n",
    "#from class -1! If it does not, modify the code so to apply more random\n",
    "#permutations (or the same permutation multiple times) until this happens.\n",
    "#IMPORTANT: do not change the random seed.\n",
    "\n",
    "#m_training needs to be the number of samples in the training set\n",
    "m_training = len(Y[:])//2\n",
    "\n",
    "#m_test needs to be the number of samples in the test set\n",
    "m_test = len(Y)-m_training\n",
    "\n",
    "print(m_training, m_test)\n",
    "\n",
    "\n",
    "#X_training = instances for training set\n",
    "X_training = X[:m_training,:]\n",
    "\n",
    "#Y_training = labels for the training set\n",
    "Y_training = Y[:m_training]\n",
    "\n",
    "#X_test = instances for test set\n",
    "X_test = X[m_training:,:]\n",
    "#Y_test = labels for the test set\n",
    "Y_test = Y[m_training:]\n",
    "\n",
    "#print(Y_training)\n",
    "#print(np.count_nonzero(Y_training == 1), np.count_nonzero(Y_training == -1))\n",
    "\n",
    "#to make sure that Y_training contains an adequate number of 1 and -1\n",
    "while np.count_nonzero(Y_training == 1)<10 or np.count_nonzero(Y_training == -1)<10:\n",
    "    m = dataset.shape[0]\n",
    "    permutation = np.random.permutation(m)\n",
    "\n",
    "    X = X[permutation]\n",
    "    Y = Y[permutation]\n",
    "    \n",
    "    X_training = X[:m_training,:]\n",
    "    Y_training = Y[:m_training]\n",
    "    "
   ]
  },
  {
   "cell_type": "markdown",
   "metadata": {},
   "source": [
    "**TO DO** Now add a 1 in front of each sample so that we can use a vector to describe all the coefficients of the model (homogeneous coordinates). You can use the function $hstack$ in $numpy$"
   ]
  },
  {
   "cell_type": "code",
   "execution_count": 5,
   "metadata": {},
   "outputs": [],
   "source": [
    "#add a 1 to each sample\n",
    "\n",
    "if np.array_equal(X_training[:,0], np.ones(m_training))==False:\n",
    "    X_training = np.hstack((np.ones((m_training,1)),X_training))\n",
    "\n",
    "if np.array_equal(X_test[:,0], np.ones(m_training))==False:    \n",
    "    X_test = np.hstack((np.ones((m_training,1)),X_test))\n",
    "    \n",
    "#print(X_training, X_test)"
   ]
  },
  {
   "cell_type": "markdown",
   "metadata": {},
   "source": [
    "**TO DO** Now complete the function *perceptron*. Since the perceptron does not terminate if the data is not linearly separable, your implementation should return the desired output (see below) if it reached the termination condition seen in class or if a maximum number of iterations have already been run, where 1 iteration corresponds to 1 update of the perceptron weights. In case the termination is reached because the maximum number of iterations have been completed, the implementation should return **the best model** seen up to now.\n",
    "\n",
    "The input parameters to pass are:\n",
    "- $X$: the matrix of input features, one row for each sample\n",
    "- $Y$: the vector of labels for the input features matrix X\n",
    "- $max\\_num\\_iterations$: the maximum number of iterations for running the perceptron\n",
    "\n",
    "The output values are:\n",
    "- $best\\_w$: the vector with the coefficients of the best model\n",
    "- $best\\_error$: the *fraction* of missclassified samples for the best model"
   ]
  },
  {
   "cell_type": "code",
   "execution_count": 6,
   "metadata": {},
   "outputs": [],
   "source": [
    "def perceptron(X, Y, max_num_iterations):\n",
    "    \n",
    "    w = np.zeros(len(X[0,:]))\n",
    "    best_error=1\n",
    "    \n",
    "    #the floowing lists will be used to determine best_w and best_error later on\n",
    "    array_w=[] \n",
    "    array_error=[]\n",
    "    \n",
    "    for t in range(max_num_iterations):        \n",
    "        misclassified_X = []\n",
    "        misclassified_Y = [] \n",
    "        \n",
    "        for i in range(len(X[:,0])):\n",
    "            if Y[i]*np.dot(X[i,:], w)<=0:\n",
    "                misclassified_X.append(X[i,:])\n",
    "                misclassified_Y.append(Y[i])\n",
    "                \n",
    "        if len(misclassified_X)==0:\n",
    "            print(\"Perceptron stopped after %d iterations\" %t)\n",
    "            break\n",
    "        else:\n",
    "            #print(misclassified_X[2], misclassified_X[2][0])\n",
    "            p=np.random.randint(0,len(misclassified_X)) #randomly generates an index from which to pick \n",
    "                                                        #a misclassified sample \n",
    "            w=w+misclassified_Y[p]*misclassified_X[p]        \n",
    "            array_w.append(w)\n",
    "            \n",
    "            num_error=0\n",
    "            for i in range(len(X[:,0])):\n",
    "                if Y[i]*np.dot(X[i,:],w)<=0:\n",
    "                    num_error+=1\n",
    "            #print(w, num_error)\n",
    "            array_error.append(num_error)\n",
    "        \n",
    "            \n",
    "    k=array_error.index(min(array_error)) #finds the index of the lowest error      \n",
    "    \n",
    "    best_error=array_error[k]/len(Y) \n",
    "    best_w= array_w[k]  #w vectors and errors are appended in order, hence the indeces will be matching\n",
    "        \n",
    "    \n",
    "    return best_w, best_error"
   ]
  },
  {
   "cell_type": "markdown",
   "metadata": {},
   "source": [
    "Now we use the implementation above of the perceptron to learn a model from the training data using 100 iterations and print the error of the best model we have found."
   ]
  },
  {
   "cell_type": "code",
   "execution_count": 7,
   "metadata": {},
   "outputs": [
    {
     "name": "stdout",
     "output_type": "stream",
     "text": [
      "0.08461538461538462\n",
      "[  -4. -228.  462.]\n"
     ]
    }
   ],
   "source": [
    "#now run the perceptron for 100 iterations\n",
    "w_found, error = perceptron(X_training,Y_training, 100)\n",
    "print(error)\n",
    "print(w_found)"
   ]
  },
  {
   "cell_type": "markdown",
   "metadata": {},
   "source": [
    "**TO DO** use the best model $w\\_found$ to predict the labels for the test dataset and print the fraction of missclassified samples in the test set (that is an estimate of the true loss)."
   ]
  },
  {
   "cell_type": "code",
   "execution_count": 8,
   "metadata": {},
   "outputs": [
    {
     "name": "stdout",
     "output_type": "stream",
     "text": [
      "0.06923076923076923\n"
     ]
    }
   ],
   "source": [
    "#now use the w_found to make predictions on test dataset\n",
    "\n",
    "num_errors1 = 0\n",
    "\n",
    "for i in range(m_test):\n",
    "    if Y_test[i]*np.dot(X_test[i], w_found)<=0:\n",
    "        num_errors1+=1\n",
    "\n",
    "true_loss_estimate = num_errors1/m_test\n",
    "#NOTE: you can avoid using num_errors if you prefer, as long as true_loss_estimate is correct\n",
    "print(true_loss_estimate)"
   ]
  },
  {
   "cell_type": "markdown",
   "metadata": {},
   "source": [
    "**TO DO** Copy the code from the last 2 cells above in the cell below and repeat the training with 10000 iterations. Then print the error in the training set and the estimate of the true loss obtained from the test set."
   ]
  },
  {
   "cell_type": "code",
   "execution_count": 9,
   "metadata": {},
   "outputs": [
    {
     "name": "stdout",
     "output_type": "stream",
     "text": [
      "0.06923076923076923\n",
      "[  -36. -1142.  2363.]\n",
      "0.06923076923076923\n"
     ]
    }
   ],
   "source": [
    "#now run the perceptron for 10000 iterations here!\n",
    "w_found, error = perceptron(X_training,Y_training, 10000)\n",
    "print(error)\n",
    "print(w_found)\n",
    "\n",
    "num_errors2 = 0.\n",
    "for i in range(m_test):\n",
    "    if Y_test[i]*np.dot(X_test[i],w_found)<=0:\n",
    "        num_errors2+=1\n",
    "\n",
    "true_loss_estimate = num_errors2/m_test\n",
    "print(true_loss_estimate)"
   ]
  },
  {
   "cell_type": "markdown",
   "metadata": {},
   "source": [
    "**TO DO** [Answer the following] What about the difference between the training error and the test error in terms of fraction of missclassified samples? Explain what you observe. [Write the answer in this cell]\n",
    "\n",
    "**ANSWER** \n",
    "\n",
    "Over 100 iterations, the training error is slightly higher than the test error; the difference is not significant and it is due to the particular dataset considered (there are some players whose role is not what is expected to be from their height and weight).\n",
    "\n",
    "Over 10,000 iterations, the result is more stable (it does not change quite as often, see below) and the training error is equal to the test error.  \n",
    "\n",
    "It should be noted, however, that I tried to change the seed using different ID numbers and in some cases the values are different between each others, usually with training error slighlty lower than the test error (as it is supposed to be)."
   ]
  },
  {
   "cell_type": "markdown",
   "metadata": {},
   "source": [
    "# Logistic Regression\n",
    "Now we use logistic regression, as implemented in Scikit-learn, to predict labels. We will also plot the decision region of logistic regression.\n",
    "\n",
    "We first load the dataset again."
   ]
  },
  {
   "cell_type": "code",
   "execution_count": 10,
   "metadata": {},
   "outputs": [
    {
     "name": "stdout",
     "output_type": "stream",
     "text": [
      "['Position', 'Height cm', 'kg', 'Age']\n"
     ]
    }
   ],
   "source": [
    "filename = 'data/NBA.csv'\n",
    "NBA = csv.reader(open(filename, newline=''), delimiter=',')\n",
    "\n",
    "header = next(NBA)\n",
    "print(header)\n",
    "\n",
    "dataset = list(NBA)\n",
    "for i in range(len(dataset)):\n",
    "    dataset[i] = [int(x) for x in dataset[i]]\n",
    "    \n",
    "dataset = np.asarray(dataset)\n",
    "\n",
    "X = dataset[:,1:]\n",
    "Y = dataset[:,0]\n",
    "\n",
    "Y = Y*2-1  # set labels to -1, 1 as required by perceptron implementation\n",
    "\n",
    "m = dataset.shape[0]\n",
    "permutation = np.random.permutation(m)\n",
    "\n",
    "X = X[permutation]\n",
    "Y = Y[permutation]"
   ]
  },
  {
   "cell_type": "markdown",
   "metadata": {},
   "source": [
    "**TO DO** As for the previous part, divide the data into training and test (50%-50%) and add a 1 as first component to each sample."
   ]
  },
  {
   "cell_type": "code",
   "execution_count": 11,
   "metadata": {},
   "outputs": [
    {
     "name": "stdout",
     "output_type": "stream",
     "text": [
      "130 130\n"
     ]
    }
   ],
   "source": [
    "#Divide in training and test: make sure that your training set\n",
    "#contains at least 10 elements from class 1 and at least 10 elements\n",
    "#from class -1! If it does not, modify the code so to apply more random\n",
    "#permutations (or the same permutation multiple times) until this happens.\n",
    "#IMPORTANT: do not change the random seed.\n",
    "\n",
    "m_training = len(Y[:])//2\n",
    "m_test = len(Y)-m_training\n",
    "\n",
    "print(m_training, m_test)\n",
    "\n",
    "X_training = X[:m_training,:]\n",
    "Y_training = Y[:m_training]\n",
    "\n",
    "X_test = X[m_training:,:]\n",
    "Y_test = Y[m_training:]\n",
    "\n",
    "#print(Y_training)\n",
    "\n",
    "while np.count_nonzero(Y_training == 1)<10 or np.count_nonzero(Y_training == -1)<10:\n",
    "    m = dataset.shape[0]\n",
    "    permutation = np.random.permutation(m)\n",
    "\n",
    "    X = X[permutation]\n",
    "    Y = Y[permutation]\n",
    "    \n",
    "    X_training = X[:m_training,:]\n",
    "    Y_training = Y[:m_training]\n",
    "        \n",
    "#add a 1 as first component to each sample\n",
    "if np.array_equal(X_training[:,0], np.ones(m_training))==False:\n",
    "    X_training = np.hstack((np.ones((m_training,1)),X_training))\n",
    "    \n",
    "if np.array_equal(X_test[:,0], np.ones(m_training))==False:    \n",
    "    X_test = np.hstack((np.ones((m_training,1)),X_test))"
   ]
  },
  {
   "cell_type": "markdown",
   "metadata": {},
   "source": [
    "To define a logistic regression model in Scikit-learn use the instruction\n",
    "\n",
    "$linear\\_model.LogisticRegression(C=1e5)$\n",
    "\n",
    "($C$ is a parameter related to *regularization*, a technique that\n",
    "we will see later in the course. Setting it to a high value is almost\n",
    "as ignoring regularization, so the instruction above corresponds to the\n",
    "logistic regression you have seen in the lecture.)\n",
    "\n",
    "To learn the model you need to use the $fit(...)$ instruction and to predict you need to use the $predict(...)$ function. See the Scikit-learn documentation for how to use it.\n",
    "\n",
    "**TO DO** Define the logistic regression model, then learn the model using the training set and predict on the test set. Then print the fraction of samples missclassified in the training set and in the test set."
   ]
  },
  {
   "cell_type": "code",
   "execution_count": 12,
   "metadata": {},
   "outputs": [
    {
     "name": "stdout",
     "output_type": "stream",
     "text": [
      "Error rate on training set: 0.0692307692307692\n",
      "Error rate on test set: 0.08461538461538465\n"
     ]
    },
    {
     "name": "stderr",
     "output_type": "stream",
     "text": [
      "/anaconda3/lib/python3.7/site-packages/sklearn/linear_model/logistic.py:432: FutureWarning: Default solver will be changed to 'lbfgs' in 0.22. Specify a solver to silence this warning.\n",
      "  FutureWarning)\n"
     ]
    }
   ],
   "source": [
    "#part on logistic regression for 2 classes\n",
    "logreg = linear_model.LogisticRegression(C=1e5)\n",
    "\n",
    "#learn from training set\n",
    "logreg.fit(X_training, Y_training)\n",
    "\n",
    "#predict on training set\n",
    "pred_training=logreg.predict(X_training)\n",
    "\n",
    "\n",
    "#print the error rate = fraction of missclassified samples\n",
    "error_rate_training = 1-logreg.score(X_training,Y_training)\n",
    "print(\"Error rate on training set: \"+str(error_rate_training))\n",
    "\n",
    "#predict on test set\n",
    "pred_test=logreg.predict(X_test)\n",
    "\n",
    "#print the error rate = fraction of missclassified samples\n",
    "error_rate_test=1-logreg.score(X_test,Y_test)\n",
    "print(\"Error rate on test set: \" + str(error_rate_test))"
   ]
  },
  {
   "cell_type": "markdown",
   "metadata": {},
   "source": [
    "**TO DO** Now pick two features and restrict the dataset to include only two features, whose indices are specified in the $feature$ vector below. Then split into training and test. Which features are you going to select ?"
   ]
  },
  {
   "cell_type": "code",
   "execution_count": 13,
   "metadata": {},
   "outputs": [],
   "source": [
    "#to make the plot we need to reduce the data to 2D, so we choose two features\n",
    "features_list = ['height', 'weight', 'age']\n",
    "labels_list = ['Center', 'Point guard']\n",
    "\n",
    "index_feature1 = 0\n",
    "index_feature2 = 1  #I selected height and weight, which appear to be the two most sensible predictors\n",
    "features = [index_feature1, index_feature2]\n",
    "\n",
    "feature_name0 = features_list[features[0]]\n",
    "feature_name1 = features_list[features[1]]\n",
    "\n",
    "X_reduced = X[:,features]\n",
    "\n",
    "X_training = X_reduced[:m_training,:]\n",
    "Y_training = Y[:m_training]\n",
    "\n",
    "X_test =X_reduced[m_training:,:]\n",
    "Y_test = Y_test[m_training:]"
   ]
  },
  {
   "cell_type": "markdown",
   "metadata": {},
   "source": [
    "Now learn a model using the training data."
   ]
  },
  {
   "cell_type": "code",
   "execution_count": 14,
   "metadata": {},
   "outputs": [
    {
     "name": "stderr",
     "output_type": "stream",
     "text": [
      "/anaconda3/lib/python3.7/site-packages/sklearn/linear_model/logistic.py:432: FutureWarning: Default solver will be changed to 'lbfgs' in 0.22. Specify a solver to silence this warning.\n",
      "  FutureWarning)\n"
     ]
    },
    {
     "data": {
      "text/plain": [
       "LogisticRegression(C=100000.0, class_weight=None, dual=False,\n",
       "          fit_intercept=True, intercept_scaling=1, max_iter=100,\n",
       "          multi_class='warn', n_jobs=None, penalty='l2', random_state=None,\n",
       "          solver='warn', tol=0.0001, verbose=0, warm_start=False)"
      ]
     },
     "execution_count": 14,
     "metadata": {},
     "output_type": "execute_result"
    }
   ],
   "source": [
    "logreg.fit(X_training, Y_training)"
   ]
  },
  {
   "cell_type": "markdown",
   "metadata": {},
   "source": [
    "If everything is ok, the code below uses the model in $logreg$ to plot the decision region for the two features chosen above, with colors denoting the predicted value. It also plots the points (with correct labels) in the training set. It makes a similar plot for the test set."
   ]
  },
  {
   "cell_type": "code",
   "execution_count": 15,
   "metadata": {},
   "outputs": [
    {
     "data": {
      "image/png": "[encoded data removed]",
      "text/plain": [
       "<Figure size 288x216 with 1 Axes>"
      ]
     },
     "metadata": {},
     "output_type": "display_data"
    },
    {
     "data": {
      "image/png": "[encoded data removed]",
      "text/plain": [
       "<Figure size 288x216 with 1 Axes>"
      ]
     },
     "metadata": {},
     "output_type": "display_data"
    }
   ],
   "source": [
    "# Plot the decision boundary. For that, we will assign a color to each\n",
    "# point in the mesh [x_min, x_max]x[y_min, y_max].\n",
    "h = .02  # step size in the mesh\n",
    "x_min, x_max = X_reduced[:, 0].min() - .5, X_reduced[:, 0].max() + .5\n",
    "y_min, y_max = X_reduced[:, 1].min() - .5, X_reduced[:, 1].max() + .5\n",
    "xx, yy = np.meshgrid(np.arange(x_min, x_max, h), np.arange(y_min, y_max, h))\n",
    "\n",
    "Z = logreg.predict(np.c_[xx.ravel(), yy.ravel()])\n",
    "\n",
    "# Put the result into a color plot\n",
    "Z = Z.reshape(xx.shape)\n",
    "\n",
    "plt.figure(1, figsize=(4, 3))\n",
    "plt.pcolormesh(xx, yy, Z, cmap=plt.cm.Paired)\n",
    "\n",
    "# Plot also the training points\n",
    "plt.scatter(X_training[:, 0], X_training[:, 1], c=Y_training, edgecolors='k', cmap=plt.cm.Paired)\n",
    "plt.xlabel(feature_name0)\n",
    "plt.ylabel(feature_name1)\n",
    "\n",
    "plt.xlim(xx.min(), xx.max())\n",
    "plt.ylim(yy.min(), yy.max())\n",
    "plt.xticks(())\n",
    "plt.yticks(())\n",
    "plt.title('Training set')\n",
    "\n",
    "plt.show()\n",
    "\n",
    "# Put the result into a color plot\n",
    "Z = Z.reshape(xx.shape)\n",
    "plt.figure(1, figsize=(4, 3))\n",
    "plt.pcolormesh(xx, yy, Z, cmap=plt.cm.Paired)\n",
    "\n",
    "# Plot also the test points \n",
    "plt.scatter(X_test[:, 0], X_test[:, 1], c=Y_test, edgecolors='k', cmap=plt.cm.Paired, marker='s')\n",
    "plt.xlabel(feature_name0)\n",
    "plt.ylabel(feature_name1)\n",
    "\n",
    "plt.xlim(xx.min(), xx.max())\n",
    "plt.ylim(yy.min(), yy.max())\n",
    "plt.xticks(())\n",
    "plt.yticks(())\n",
    "plt.title('Test set')\n",
    "\n",
    "plt.show()"
   ]
  },
  {
   "cell_type": "code",
   "execution_count": null,
   "metadata": {},
   "outputs": [],
   "source": []
  }
 ],
 "metadata": {
  "anaconda-cloud": {},
  "kernelspec": {
   "display_name": "Python 3",
   "language": "python",
   "name": "python3"
  },
  "language_info": {
   "codemirror_mode": {
    "name": "ipython",
    "version": 3
   },
   "file_extension": ".py",
   "mimetype": "text/x-python",
   "name": "python",
   "nbconvert_exporter": "python",
   "pygments_lexer": "ipython3",
   "version": "3.7.5"
  }
 },
 "nbformat": 4,
 "nbformat_minor": 2
}
