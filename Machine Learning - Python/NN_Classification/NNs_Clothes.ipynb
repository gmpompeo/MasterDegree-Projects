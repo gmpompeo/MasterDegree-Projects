{
 "cells": [
  {
   "cell_type": "markdown",
   "metadata": {},
   "source": [
    "# Neural Networks\n",
    "\n",
    "In this notebook we are going to explore the Neural Networks for image classification. We are going to use the same dataset of the SVM notebook: Fashion MNIST (https://pravarmahajan.github.io/fashion/), a dataset of small images of clothes and accessories.\n",
    "\n",
    "The dataset labels are the following:\n",
    "\n",
    "| Label | Description |\n",
    "| --- | --- |\n",
    "| 0 | T-shirt/top |\n",
    "| 1 | Trouser |\n",
    "| 2 | Pullover |\n",
    "| 3 | Dress |\n",
    "| 4 | Coat |\n",
    "| 5 | Sandal |\n",
    "| 6 | Shirt |\n",
    "| 7 | Sneaker |\n",
    "| 8 | Bag |\n",
    "| 9 | Ankle boot |"
   ]
  },
  {
   "cell_type": "code",
   "execution_count": 1,
   "metadata": {},
   "outputs": [],
   "source": [
    "#load the required packages\n",
    "\n",
    "%matplotlib inline  \n",
    "\n",
    "import numpy as np\n",
    "import scipy as sp\n",
    "import matplotlib.pyplot as plt\n",
    "\n",
    "import pandas as pd\n",
    "\n",
    "import sklearn\n",
    "from sklearn.neural_network import MLPClassifier\n",
    "from sklearn.model_selection import GridSearchCV\n",
    "from sklearn.svm import SVC"
   ]
  },
  {
   "cell_type": "code",
   "execution_count": 2,
   "metadata": {},
   "outputs": [],
   "source": [
    "# helper function to load Fashion MNIST dataset from disk\n",
    "def load_mnist(path, kind='train'):\n",
    "    import os\n",
    "    import gzip\n",
    "    import numpy as np\n",
    "    labels_path = os.path.join(path, '%s-labels-idx1-ubyte.gz' % kind)\n",
    "    images_path = os.path.join(path, '%s-images-idx3-ubyte.gz' % kind)\n",
    "    with gzip.open(labels_path, 'rb') as lbpath:\n",
    "        labels = np.frombuffer(lbpath.read(), dtype=np.uint8,offset=8)\n",
    "    with gzip.open(images_path, 'rb') as imgpath:\n",
    "        images = np.frombuffer(imgpath.read(), dtype=np.uint8,offset=16).reshape(len(labels), 784)\n",
    "    return images, labels"
   ]
  },
  {
   "cell_type": "markdown",
   "metadata": {},
   "source": [
    "# TODO \n",
    "Place your ID (\"numero di matricola\") that will be used as seed for random generator. You can try to change the seed to see the impact of the randomization."
   ]
  },
  {
   "cell_type": "code",
   "execution_count": 3,
   "metadata": {},
   "outputs": [],
   "source": [
    "ID = 1183845\n",
    "np.random.seed(ID)"
   ]
  },
  {
   "cell_type": "code",
   "execution_count": 4,
   "metadata": {},
   "outputs": [],
   "source": [
    "#load the MNIST dataset and let's normalize the features so that each value is in [0,1]\n",
    "X, y = load_mnist(\"data\")\n",
    "# rescale the data\n",
    "X = X / 255.0"
   ]
  },
  {
   "cell_type": "markdown",
   "metadata": {},
   "source": [
    "Now split into training and test. Make sure that each label is present at least 10 times\n",
    "in training frequencies."
   ]
  },
  {
   "cell_type": "code",
   "execution_count": 5,
   "metadata": {},
   "outputs": [
    {
     "name": "stdout",
     "output_type": "stream",
     "text": [
      "Labels in training dataset:  [0 1 2 3 4 5 6 7 8 9]\n",
      "Frequencies in training dataset:  [50 50 44 53 48 49 48 57 50 51]\n"
     ]
    }
   ],
   "source": [
    "#random permute the data and split into training and test taking the first 500\n",
    "#data samples as training and the rests as test\n",
    "permutation = np.random.permutation(X.shape[0])\n",
    "\n",
    "X = X[permutation]\n",
    "y = y[permutation]\n",
    "\n",
    "m_training = 500\n",
    "\n",
    "X_train, X_test = X[:m_training], X[m_training:]\n",
    "y_train, y_test = y[:m_training], y[m_training:]\n",
    "\n",
    "labels, freqs = np.unique(y_train, return_counts=True)\n",
    "\n",
    "#making sure that each label is present at least 10 times in training\n",
    "if np.all(freqs>10)==False:\n",
    "    for item in freqs:\n",
    "        while item<10:\n",
    "            X = X[permutation]\n",
    "            y = y[permutation]\n",
    "    \n",
    "            X_train, X_test = X[:m_training], X[m_training:]\n",
    "            y_train, y_test = y[:m_training], y[m_training:]\n",
    "\n",
    "\n",
    "print(\"Labels in training dataset: \", labels)\n",
    "print(\"Frequencies in training dataset: \", freqs)\n"
   ]
  },
  {
   "cell_type": "code",
   "execution_count": 6,
   "metadata": {},
   "outputs": [],
   "source": [
    "#function for plotting a image and printing the corresponding label\n",
    "def plot_input(X_matrix, labels, index):\n",
    "    print(\"INPUT:\")\n",
    "    plt.imshow(\n",
    "        X_matrix[index].reshape(28,28),\n",
    "        cmap          = plt.cm.gray_r,\n",
    "        interpolation = \"nearest\"\n",
    "    )\n",
    "    plt.show()\n",
    "    print(\"LABEL: %i\"%labels[index])\n",
    "    return"
   ]
  },
  {
   "cell_type": "code",
   "execution_count": 7,
   "metadata": {},
   "outputs": [
    {
     "name": "stdout",
     "output_type": "stream",
     "text": [
      "INPUT:\n"
     ]
    },
    {
     "data": {
      "image/png": "[encoded data removed]",
      "text/plain": [
       "<Figure size 432x288 with 1 Axes>"
      ]
     },
     "metadata": {
      "needs_background": "light"
     },
     "output_type": "display_data"
    },
    {
     "name": "stdout",
     "output_type": "stream",
     "text": [
      "LABEL: 9\n",
      "INPUT:\n"
     ]
    },
    {
     "data": {
      "image/png": "[encoded data removed]",
      "text/plain": [
       "<Figure size 432x288 with 1 Axes>"
      ]
     },
     "metadata": {
      "needs_background": "light"
     },
     "output_type": "display_data"
    },
    {
     "name": "stdout",
     "output_type": "stream",
     "text": [
      "LABEL: 5\n",
      "INPUT:\n"
     ]
    },
    {
     "data": {
      "image/png": "[encoded data removed]",
      "text/plain": [
       "<Figure size 432x288 with 1 Axes>"
      ]
     },
     "metadata": {
      "needs_background": "light"
     },
     "output_type": "display_data"
    },
    {
     "name": "stdout",
     "output_type": "stream",
     "text": [
      "LABEL: 0\n"
     ]
    }
   ],
   "source": [
    "#let's try the plotting function\n",
    "plot_input(X_train,y_train,10)\n",
    "plot_input(X_test,y_test,100)\n",
    "plot_input(X_test,y_test,10000)"
   ]
  },
  {
   "cell_type": "markdown",
   "metadata": {},
   "source": [
    "## TO DO 1\n",
    "\n",
    "Now use a Feed-forward Neural Network for prediction. Use the multi-layer perceptron classifier, with the following parameters: max_iter=300, alpha=1e-4, solver='sgd', tol=1e-4, learning_rate_init=.1, random_state=ID (this last parameter ensures the run is the same even if you run it more than once). The alpha parameter is the regularization term.\n",
    "\n",
    "Then, using the default activation function, pick four or five architectures to consider, with different numbers of hidden layers and different sizes. It is not necessary to create huge neural networks, you can limit to 3 layers and, for each layer, its maximum size can be of 100. Evaluate the architectures you chose using the GridSearchCV with cv=5.\n"
   ]
  },
  {
   "cell_type": "code",
   "execution_count": 8,
   "metadata": {},
   "outputs": [
    {
     "name": "stderr",
     "output_type": "stream",
     "text": [
      "/anaconda3/lib/python3.7/site-packages/sklearn/model_selection/_search.py:841: DeprecationWarning: The default of the `iid` parameter will change from True to False in version 0.22 and will be removed in 0.24. This will change numeric results when test-set sizes are unequal.\n",
      "  DeprecationWarning)\n"
     ]
    },
    {
     "name": "stdout",
     "output_type": "stream",
     "text": [
      "RESULTS FOR NN\n",
      "\n",
      "Best parameters set found: {'hidden_layer_sizes': (50,)}\n",
      "Score with best parameters: 0.63\n",
      "\n",
      "All scores on the grid:\n"
     ]
    },
    {
     "data": {
      "text/html": [
       "<div>\n",
       "<style scoped>\n",
       "    .dataframe tbody tr th:only-of-type {\n",
       "        vertical-align: middle;\n",
       "    }\n",
       "\n",
       "    .dataframe tbody tr th {\n",
       "        vertical-align: top;\n",
       "    }\n",
       "\n",
       "    .dataframe thead th {\n",
       "        text-align: right;\n",
       "    }\n",
       "</style>\n",
       "<table border=\"1\" class=\"dataframe\">\n",
       "  <thead>\n",
       "    <tr style=\"text-align: right;\">\n",
       "      <th></th>\n",
       "      <th>params</th>\n",
       "      <th>mean_test_score</th>\n",
       "    </tr>\n",
       "  </thead>\n",
       "  <tbody>\n",
       "    <tr>\n",
       "      <th>0</th>\n",
       "      <td>{'hidden_layer_sizes': (10,)}</td>\n",
       "      <td>0.524</td>\n",
       "    </tr>\n",
       "    <tr>\n",
       "      <th>1</th>\n",
       "      <td>{'hidden_layer_sizes': (50,)}</td>\n",
       "      <td>0.630</td>\n",
       "    </tr>\n",
       "    <tr>\n",
       "      <th>2</th>\n",
       "      <td>{'hidden_layer_sizes': (10, 10)}</td>\n",
       "      <td>0.520</td>\n",
       "    </tr>\n",
       "    <tr>\n",
       "      <th>3</th>\n",
       "      <td>{'hidden_layer_sizes': (50, 50)}</td>\n",
       "      <td>0.560</td>\n",
       "    </tr>\n",
       "    <tr>\n",
       "      <th>4</th>\n",
       "      <td>{'hidden_layer_sizes': (10, 10, 10)}</td>\n",
       "      <td>0.356</td>\n",
       "    </tr>\n",
       "    <tr>\n",
       "      <th>5</th>\n",
       "      <td>{'hidden_layer_sizes': (50, 50, 50)}</td>\n",
       "      <td>0.590</td>\n",
       "    </tr>\n",
       "  </tbody>\n",
       "</table>\n",
       "</div>"
      ],
      "text/plain": [
       "                                 params  mean_test_score\n",
       "0         {'hidden_layer_sizes': (10,)}            0.524\n",
       "1         {'hidden_layer_sizes': (50,)}            0.630\n",
       "2      {'hidden_layer_sizes': (10, 10)}            0.520\n",
       "3      {'hidden_layer_sizes': (50, 50)}            0.560\n",
       "4  {'hidden_layer_sizes': (10, 10, 10)}            0.356\n",
       "5  {'hidden_layer_sizes': (50, 50, 50)}            0.590"
      ]
     },
     "execution_count": 8,
     "metadata": {},
     "output_type": "execute_result"
    }
   ],
   "source": [
    "parameters = {'hidden_layer_sizes': [(10,), (50,), (10,10,), (50,50,), (10, 10, 10,), (50, 50, 50,)]}\n",
    "\n",
    "mlp = MLPClassifier(max_iter=300, alpha=1e-4,\n",
    "                    solver='sgd', tol=1e-4, random_state=ID,\n",
    "                    learning_rate_init=.1)\n",
    "\n",
    "#ADD YOUR CODE\n",
    "ffnn = GridSearchCV(estimator=mlp, param_grid=parameters, cv=5, return_train_score=True)\n",
    "ffnn.fit(X_train, y_train)\n",
    "\n",
    "print ('RESULTS FOR NN\\n')\n",
    "\n",
    "print(\"Best parameters set found:\", ffnn.best_params_)\n",
    "print(\"Score with best parameters:\", ffnn.best_score_)\n",
    "\n",
    "print(\"\\nAll scores on the grid:\")\n",
    "results = pd.DataFrame(ffnn.cv_results_)\n",
    "results[[\"params\", \"mean_test_score\"]]"
   ]
  },
  {
   "cell_type": "markdown",
   "metadata": {},
   "source": [
    "### QUESTION 1\n",
    "\n",
    "What do you observe for different architectures and their scores? How the nummber of layers and their sizes affect the performances?"
   ]
  },
  {
   "cell_type": "markdown",
   "metadata": {
    "collapsed": true
   },
   "source": [
    "Having a look at the mean test scores for each of the different architectures that have been tried out, we can say that:\n",
    "* when the sizes of the layers increase (from 10 to 50), the score increases as well, hence improving performances;\n",
    "* when we have more layers (fixing their size), the score appears to decrease in almost all cases.\n",
    "\n",
    "As a consequence, the scenario where we get the best parameters is the one with (50,) - that is, number 2."
   ]
  },
  {
   "cell_type": "markdown",
   "metadata": {},
   "source": [
    "### TO DO 2\n",
    "\n",
    "Now get training and test error for a NN with best parameters from above. Use verbose=True\n",
    "in input so to see how loss changes in iterations"
   ]
  },
  {
   "cell_type": "code",
   "execution_count": 9,
   "metadata": {},
   "outputs": [
    {
     "name": "stdout",
     "output_type": "stream",
     "text": [
      "Iteration 1, loss = 2.20709113\n",
      "Iteration 2, loss = 1.58092676\n",
      "Iteration 3, loss = 1.04877785\n",
      "Iteration 4, loss = 0.95728295\n",
      "Iteration 5, loss = 0.85152831\n",
      "Iteration 6, loss = 0.84805561\n",
      "Iteration 7, loss = 0.78365404\n",
      "Iteration 8, loss = 0.59408188\n",
      "Iteration 9, loss = 0.53748501\n",
      "Iteration 10, loss = 0.48523290\n",
      "Iteration 11, loss = 0.47653705\n",
      "Iteration 12, loss = 0.42789412\n",
      "Iteration 13, loss = 0.43477578\n",
      "Iteration 14, loss = 0.39520856\n",
      "Iteration 15, loss = 0.39110936\n",
      "Iteration 16, loss = 0.46561793\n",
      "Iteration 17, loss = 0.32014194\n",
      "Iteration 18, loss = 0.28971269\n",
      "Iteration 19, loss = 0.26288025\n",
      "Iteration 20, loss = 0.28594733\n",
      "Iteration 21, loss = 0.24149119\n",
      "Iteration 22, loss = 0.24449154\n",
      "Iteration 23, loss = 0.21625660\n",
      "Iteration 24, loss = 0.18791435\n",
      "Iteration 25, loss = 0.17748568\n",
      "Iteration 26, loss = 0.17024069\n",
      "Iteration 27, loss = 0.14519383\n",
      "Iteration 28, loss = 0.12617748\n",
      "Iteration 29, loss = 0.12270315\n",
      "Iteration 30, loss = 0.14451011\n",
      "Iteration 31, loss = 0.11788765\n",
      "Iteration 32, loss = 0.13968866\n",
      "Iteration 33, loss = 0.09862761\n",
      "Iteration 34, loss = 0.10820385\n",
      "Iteration 35, loss = 0.08980786\n",
      "Iteration 36, loss = 0.16326742\n",
      "Iteration 37, loss = 0.09419939\n",
      "Iteration 38, loss = 0.07852859\n",
      "Iteration 39, loss = 0.08219929\n",
      "Iteration 40, loss = 0.06076128\n",
      "Iteration 41, loss = 0.05479492\n",
      "Iteration 42, loss = 0.05353435\n",
      "Iteration 43, loss = 0.05937701\n",
      "Iteration 44, loss = 0.04922319\n",
      "Iteration 45, loss = 0.04251499\n",
      "Iteration 46, loss = 0.04237252\n",
      "Iteration 47, loss = 0.03623013\n",
      "Iteration 48, loss = 0.04343466\n",
      "Iteration 49, loss = 0.03321305\n",
      "Iteration 50, loss = 0.03386804\n",
      "Iteration 51, loss = 0.03965514\n",
      "Iteration 52, loss = 0.04053759\n",
      "Iteration 53, loss = 0.03826597\n",
      "Iteration 54, loss = 0.03304438\n",
      "Iteration 55, loss = 0.03168843\n",
      "Iteration 56, loss = 0.02374951\n",
      "Iteration 57, loss = 0.02281455\n",
      "Iteration 58, loss = 0.02194772\n",
      "Iteration 59, loss = 0.02056365\n",
      "Iteration 60, loss = 0.02050461\n",
      "Iteration 61, loss = 0.01919442\n",
      "Iteration 62, loss = 0.01804069\n",
      "Iteration 63, loss = 0.01836991\n",
      "Iteration 64, loss = 0.01737816\n",
      "Iteration 65, loss = 0.01606251\n",
      "Iteration 66, loss = 0.01542734\n",
      "Iteration 67, loss = 0.01489504\n",
      "Iteration 68, loss = 0.01486226\n",
      "Iteration 69, loss = 0.01449401\n",
      "Iteration 70, loss = 0.01457379\n",
      "Iteration 71, loss = 0.01320908\n",
      "Iteration 72, loss = 0.01287700\n",
      "Iteration 73, loss = 0.01276959\n",
      "Iteration 74, loss = 0.01272198\n",
      "Iteration 75, loss = 0.01174307\n",
      "Iteration 76, loss = 0.01167479\n",
      "Iteration 77, loss = 0.01151670\n",
      "Iteration 78, loss = 0.01097736\n",
      "Iteration 79, loss = 0.01046019\n",
      "Iteration 80, loss = 0.01004907\n",
      "Iteration 81, loss = 0.01002074\n",
      "Iteration 82, loss = 0.00981857\n",
      "Iteration 83, loss = 0.00963078\n",
      "Iteration 84, loss = 0.00927306\n",
      "Iteration 85, loss = 0.00922301\n",
      "Iteration 86, loss = 0.00926905\n",
      "Iteration 87, loss = 0.00869828\n",
      "Iteration 88, loss = 0.00862432\n",
      "Iteration 89, loss = 0.00831934\n",
      "Iteration 90, loss = 0.00816903\n",
      "Iteration 91, loss = 0.00802398\n",
      "Iteration 92, loss = 0.00784521\n",
      "Iteration 93, loss = 0.00781552\n",
      "Iteration 94, loss = 0.00756525\n",
      "Iteration 95, loss = 0.00773985\n",
      "Iteration 96, loss = 0.00752393\n",
      "Iteration 97, loss = 0.00730075\n",
      "Iteration 98, loss = 0.00711078\n",
      "Iteration 99, loss = 0.00711480\n",
      "Iteration 100, loss = 0.00688557\n",
      "Iteration 101, loss = 0.00672048\n",
      "Iteration 102, loss = 0.00659121\n",
      "Iteration 103, loss = 0.00653512\n",
      "Iteration 104, loss = 0.00639212\n",
      "Iteration 105, loss = 0.00673903\n",
      "Iteration 106, loss = 0.00621515\n",
      "Iteration 107, loss = 0.00611035\n",
      "Iteration 108, loss = 0.00602362\n",
      "Iteration 109, loss = 0.00611840\n",
      "Iteration 110, loss = 0.00586191\n",
      "Iteration 111, loss = 0.00572735\n",
      "Iteration 112, loss = 0.00569531\n",
      "Iteration 113, loss = 0.00564118\n",
      "Iteration 114, loss = 0.00553698\n",
      "Iteration 115, loss = 0.00552386\n",
      "Iteration 116, loss = 0.00549655\n",
      "Iteration 117, loss = 0.00544326\n",
      "Iteration 118, loss = 0.00523789\n",
      "Iteration 119, loss = 0.00522100\n",
      "Iteration 120, loss = 0.00512662\n",
      "Iteration 121, loss = 0.00508303\n",
      "Iteration 122, loss = 0.00494472\n",
      "Iteration 123, loss = 0.00491053\n",
      "Iteration 124, loss = 0.00481121\n",
      "Iteration 125, loss = 0.00474605\n",
      "Iteration 126, loss = 0.00472518\n",
      "Iteration 127, loss = 0.00463702\n",
      "Iteration 128, loss = 0.00462356\n",
      "Iteration 129, loss = 0.00452996\n",
      "Iteration 130, loss = 0.00449766\n",
      "Iteration 131, loss = 0.00448014\n",
      "Iteration 132, loss = 0.00443036\n",
      "Iteration 133, loss = 0.00435210\n",
      "Training loss did not improve more than tol=0.000100 for 10 consecutive epochs. Stopping.\n",
      "\n",
      "RESULTS FOR BEST NN\n",
      "\n",
      "Best NN training error: 0.000000\n",
      "Best NN test error: 0.209681\n"
     ]
    }
   ],
   "source": [
    "#get training and test error for the best NN model from CV\n",
    "best_ffnn = MLPClassifier(hidden_layer_sizes=(50, ), solver='sgd', alpha=1e-4, learning_rate_init=.1, \n",
    "                          max_iter=300,random_state=ID, tol=1e-4, verbose=True)\n",
    "best_ffnn.fit(X_train, y_train)\n",
    "\n",
    "training_error = 1. - best_ffnn.score(X_train,y_train)\n",
    "test_error = 1. - best_ffnn.score(X_test,y_test)\n",
    "\n",
    "print ('\\nRESULTS FOR BEST NN\\n')\n",
    "print (\"Best NN training error: %f\" % training_error)\n",
    "print (\"Best NN test error: %f\" % test_error)"
   ]
  },
  {
   "cell_type": "markdown",
   "metadata": {},
   "source": [
    "## More data \n",
    "Now let's do the same but using 10000 (or less if it takes too long on your machine) data points for training. Use the same NN architectures as before, but you can try more if you want!"
   ]
  },
  {
   "cell_type": "code",
   "execution_count": 10,
   "metadata": {},
   "outputs": [
    {
     "name": "stdout",
     "output_type": "stream",
     "text": [
      "Labels and frequencies in training dataset: \n"
     ]
    },
    {
     "data": {
      "text/plain": [
       "(array([0, 1, 2, 3, 4, 5, 6, 7, 8, 9], dtype=uint8),\n",
       " array([1041,  977, 1051, 1010,  985,  984,  983,  990,  991,  988]))"
      ]
     },
     "execution_count": 10,
     "metadata": {},
     "output_type": "execute_result"
    }
   ],
   "source": [
    "X = X[permutation]\n",
    "y = y[permutation]\n",
    "\n",
    "m_training = 10000\n",
    "\n",
    "X_train, X_test = X[:m_training], X[m_training:]\n",
    "y_train, y_test = y[:m_training], y[m_training:]\n",
    "\n",
    "print(\"Labels and frequencies in training dataset: \")\n",
    "np.unique(y_train, return_counts=True)"
   ]
  },
  {
   "cell_type": "markdown",
   "metadata": {},
   "source": [
    "## TO DO 3\n",
    "\n",
    "Now train the NNs with the added data points. Feel free to try more different architectures than before if you want, or less if it takes too much time. We suggest that you use 'verbose=True' so have an idea of how long it takes to run 1 iteration (eventually reduce also the number of iterations to 50)."
   ]
  },
  {
   "cell_type": "code",
   "execution_count": 11,
   "metadata": {},
   "outputs": [
    {
     "name": "stderr",
     "output_type": "stream",
     "text": [
      "/anaconda3/lib/python3.7/site-packages/sklearn/model_selection/_search.py:841: DeprecationWarning: The default of the `iid` parameter will change from True to False in version 0.22 and will be removed in 0.24. This will change numeric results when test-set sizes are unequal.\n",
      "  DeprecationWarning)\n"
     ]
    },
    {
     "name": "stdout",
     "output_type": "stream",
     "text": [
      "\n",
      "RESULTS FOR NN\n",
      "\n",
      "Best parameters set found:\n",
      "{'hidden_layer_sizes': (50,)}\n",
      "Score with best parameters:\n",
      "0.8101\n",
      "\n",
      "All scores on the grid:\n"
     ]
    },
    {
     "data": {
      "text/html": [
       "<div>\n",
       "<style scoped>\n",
       "    .dataframe tbody tr th:only-of-type {\n",
       "        vertical-align: middle;\n",
       "    }\n",
       "\n",
       "    .dataframe tbody tr th {\n",
       "        vertical-align: top;\n",
       "    }\n",
       "\n",
       "    .dataframe thead th {\n",
       "        text-align: right;\n",
       "    }\n",
       "</style>\n",
       "<table border=\"1\" class=\"dataframe\">\n",
       "  <thead>\n",
       "    <tr style=\"text-align: right;\">\n",
       "      <th></th>\n",
       "      <th>params</th>\n",
       "      <th>mean_test_score</th>\n",
       "    </tr>\n",
       "  </thead>\n",
       "  <tbody>\n",
       "    <tr>\n",
       "      <th>0</th>\n",
       "      <td>{'hidden_layer_sizes': (10,)}</td>\n",
       "      <td>0.7309</td>\n",
       "    </tr>\n",
       "    <tr>\n",
       "      <th>1</th>\n",
       "      <td>{'hidden_layer_sizes': (50,)}</td>\n",
       "      <td>0.8101</td>\n",
       "    </tr>\n",
       "    <tr>\n",
       "      <th>2</th>\n",
       "      <td>{'hidden_layer_sizes': (10, 10)}</td>\n",
       "      <td>0.6307</td>\n",
       "    </tr>\n",
       "    <tr>\n",
       "      <th>3</th>\n",
       "      <td>{'hidden_layer_sizes': (50, 50)}</td>\n",
       "      <td>0.7816</td>\n",
       "    </tr>\n",
       "    <tr>\n",
       "      <th>4</th>\n",
       "      <td>{'hidden_layer_sizes': (10, 10, 10)}</td>\n",
       "      <td>0.6246</td>\n",
       "    </tr>\n",
       "    <tr>\n",
       "      <th>5</th>\n",
       "      <td>{'hidden_layer_sizes': (50, 50, 50)}</td>\n",
       "      <td>0.6777</td>\n",
       "    </tr>\n",
       "    <tr>\n",
       "      <th>6</th>\n",
       "      <td>{'hidden_layer_sizes': (10, 10, 10, 10)}</td>\n",
       "      <td>0.4237</td>\n",
       "    </tr>\n",
       "    <tr>\n",
       "      <th>7</th>\n",
       "      <td>{'hidden_layer_sizes': (50, 50, 50, 50)}</td>\n",
       "      <td>0.6328</td>\n",
       "    </tr>\n",
       "  </tbody>\n",
       "</table>\n",
       "</div>"
      ],
      "text/plain": [
       "                                     params  mean_test_score\n",
       "0             {'hidden_layer_sizes': (10,)}           0.7309\n",
       "1             {'hidden_layer_sizes': (50,)}           0.8101\n",
       "2          {'hidden_layer_sizes': (10, 10)}           0.6307\n",
       "3          {'hidden_layer_sizes': (50, 50)}           0.7816\n",
       "4      {'hidden_layer_sizes': (10, 10, 10)}           0.6246\n",
       "5      {'hidden_layer_sizes': (50, 50, 50)}           0.6777\n",
       "6  {'hidden_layer_sizes': (10, 10, 10, 10)}           0.4237\n",
       "7  {'hidden_layer_sizes': (50, 50, 50, 50)}           0.6328"
      ]
     },
     "execution_count": 11,
     "metadata": {},
     "output_type": "execute_result"
    }
   ],
   "source": [
    "#for NN we try the same architectures as before\n",
    "parameters = {'hidden_layer_sizes': [(10,), (50,), (10,10,), (50,50,), (10, 10, 10,), (50, 50, 50,), \n",
    "                                     (10, 10, 10, 10,), (50, 50, 50, 50,)]}\n",
    "\n",
    "mlp_large_CV = MLPClassifier(max_iter=300, alpha=1e-4,\n",
    "                             solver='sgd', tol=1e-4, random_state=ID,\n",
    "                             learning_rate_init=.1)\n",
    "\n",
    "clf_large_CV = GridSearchCV(estimator=mlp_large_CV, param_grid=parameters, cv=5, return_train_score=True)\n",
    "clf_large_CV.fit(X_train, y_train)\n",
    "\n",
    "\n",
    "print ('\\nRESULTS FOR NN\\n')\n",
    "\n",
    "print(\"Best parameters set found:\")\n",
    "print(clf_large_CV.best_params_)\n",
    "\n",
    "print(\"Score with best parameters:\")\n",
    "print(clf_large_CV.best_score_)\n",
    "\n",
    "print(\"\\nAll scores on the grid:\")\n",
    "#print(clf_large_CV.cv_results_['mean_test_score'])\n",
    "results_large = pd.DataFrame(clf_large_CV.cv_results_)\n",
    "results_large[[\"params\", \"mean_test_score\"]]"
   ]
  },
  {
   "cell_type": "markdown",
   "metadata": {},
   "source": [
    "## QUESTION 2\n",
    "Describe your architecture choices and the results you observe with respect to the layers and sizes used."
   ]
  },
  {
   "cell_type": "markdown",
   "metadata": {},
   "source": [
    "I used the very same architectures as before in order to be able to see if with a decent-sized sample qualitatively different results were achieved; moreover, I added two architectures with 4 layers, once again using 10 and 50 as size values for comparison purposes.\n",
    "\n",
    "Once again, the results appear to be coherent with what has been said in Question 1 (more layers $\\Rightarrow$ lower scores, bigger size $\\Rightarrow$ higher scores), even if scores are generally higher because we have more data; the (50,) is also in this case the architecture with the best parameters."
   ]
  },
  {
   "cell_type": "markdown",
   "metadata": {},
   "source": [
    "## TO DO 4\n",
    "\n",
    "Get the train and test error for the best NN you obtained with 10000 points. This time you can run for 100 iterations. \n"
   ]
  },
  {
   "cell_type": "code",
   "execution_count": 12,
   "metadata": {},
   "outputs": [
    {
     "name": "stdout",
     "output_type": "stream",
     "text": [
      "RESULTS FOR BEST NN\n",
      "\n",
      "Best NN training error: 0.002100\n",
      "Best NN test error: 0.149900\n"
     ]
    }
   ],
   "source": [
    "#get training and test error for the best NN model from CV\n",
    "best_NN_large = MLPClassifier(hidden_layer_sizes=(50,), solver='sgd', alpha=1e-4, learning_rate_init=.1, \n",
    "                              max_iter=300,random_state=ID, tol=1e-4)\n",
    "\n",
    "best_NN_large.fit(X_train, y_train)\n",
    "\n",
    "training_error = 1. - best_NN_large.score(X_train,y_train)\n",
    "test_error     = 1. - best_NN_large.score(X_test,y_test)\n",
    "\n",
    "print ('RESULTS FOR BEST NN\\n')\n",
    "print (\"Best NN training error: %f\" % training_error)\n",
    "print (\"Best NN test error: %f\" % test_error)"
   ]
  },
  {
   "cell_type": "markdown",
   "metadata": {},
   "source": [
    "## QUESTION 3\n",
    "\n",
    "Compare the train and test error you got with a large number of samples with the best one you obtained with only 500 data points. Are the architectures the same or do they differ? What about the errors you get?"
   ]
  },
  {
   "cell_type": "markdown",
   "metadata": {},
   "source": [
    "First off, it has to be noticed that between 500 and 10,000 data points, the architecture of the best NN remains the same.\n",
    "\n",
    "As far as the errors are concerned, the training error increases, but since the one with 500 data points was exactly 0.000 (not very meaningful), the increase could actually be a good sign that less overfitting occured. The test error, on the other hand, decreases noticeably (0.215 $\\rightarrow$ 0.150), a good indication of the broader predictive power of the (50,) NN with 10,000 data points."
   ]
  },
  {
   "cell_type": "markdown",
   "metadata": {},
   "source": [
    "### TO DO 5\n",
    "\n",
    "Plot a digit that was missclassified by NN with m=500 training data points and it is now instead correctly classified by NN with m=10000 training data points."
   ]
  },
  {
   "cell_type": "code",
   "execution_count": 13,
   "metadata": {},
   "outputs": [
    {
     "name": "stdout",
     "output_type": "stream",
     "text": [
      "Image 11825\n",
      "NN prediction = 8\n",
      "Large NN prediction = 6\n",
      "INPUT:\n"
     ]
    },
    {
     "data": {
      "image/png": "[encoded data removed]",
      "text/plain": [
       "<Figure size 432x288 with 1 Axes>"
      ]
     },
     "metadata": {
      "needs_background": "light"
     },
     "output_type": "display_data"
    },
    {
     "name": "stdout",
     "output_type": "stream",
     "text": [
      "LABEL: 6\n"
     ]
    }
   ],
   "source": [
    "NN_prediction = best_ffnn.predict(X_test)\n",
    "large_NN_prediction = best_NN_large.predict(X_test)\n",
    "\n",
    "wrong_index = []\n",
    "for i in range(len(y_test)):\n",
    "    if (large_NN_prediction[i] == y_test[i]) and (NN_prediction[i] != y_test[i]):\n",
    "        wrong_index.append(i)\n",
    "\n",
    "# Select a random image\n",
    "j = wrong_index[np.random.randint(0, len(wrong_index))]\n",
    "print(\"Image \"+str(j))\n",
    "print(\"NN prediction =\",   NN_prediction[j])\n",
    "print(\"Large NN prediction =\", large_NN_prediction[j])\n",
    "plot_input(X_test,y_test,j)        "
   ]
  },
  {
   "cell_type": "markdown",
   "metadata": {},
   "source": [
    "Let's plot the weigths of the multi-layer perceptron classifier, for the best NN we get with 500 data points and with 50000 data points. Notice that the code assumes that the NNs are called \"mlp\" and \"best_mlp_large\" , you could need to replace with your variable names.\n",
    "\n"
   ]
  },
  {
   "cell_type": "code",
   "execution_count": 14,
   "metadata": {},
   "outputs": [
    {
     "name": "stdout",
     "output_type": "stream",
     "text": [
      "Weights with 500 data points:\n"
     ]
    },
    {
     "data": {
      "image/png": "[encoded data removed]",
      "text/plain": [
       "<Figure size 432x288 with 16 Axes>"
      ]
     },
     "metadata": {},
     "output_type": "display_data"
    },
    {
     "name": "stdout",
     "output_type": "stream",
     "text": [
      "Weights with 10000 data points:\n"
     ]
    },
    {
     "data": {
      "image/png": "[encoded data removed]",
      "text/plain": [
       "<Figure size 432x288 with 16 Axes>"
      ]
     },
     "metadata": {},
     "output_type": "display_data"
    }
   ],
   "source": [
    "print(\"Weights with 500 data points:\")\n",
    "\n",
    "fig, axes = plt.subplots(4, 4)\n",
    "vmin, vmax = best_ffnn.coefs_[0].min(), best_ffnn.coefs_[0].max()\n",
    "for coef, ax in zip(best_ffnn.coefs_[0].T, axes.ravel()):\n",
    "    ax.matshow(coef.reshape(28, 28), cmap=plt.cm.gray, vmin=.5 * vmin, vmax=.5 * vmax)\n",
    "    ax.set_xticks(())\n",
    "    ax.set_yticks(())\n",
    "\n",
    "plt.show()\n",
    "\n",
    "print(\"Weights with 10000 data points:\")\n",
    "\n",
    "fig, axes = plt.subplots(4, 4)\n",
    "vmin, vmax = best_NN_large.coefs_[0].min(), best_NN_large.coefs_[0].max()\n",
    "for coef, ax in zip(best_NN_large.coefs_[0].T, axes.ravel()):\n",
    "    ax.matshow(coef.reshape(28, 28), cmap=plt.cm.gray, vmin=.5 * vmin, vmax=.5 * vmax)\n",
    "    ax.set_xticks(())\n",
    "    ax.set_yticks(())\n",
    "plt.show()"
   ]
  },
  {
   "cell_type": "markdown",
   "metadata": {},
   "source": [
    "## QUESTION 4\n",
    "\n",
    "Describe what do you observe by looking at the weights"
   ]
  },
  {
   "cell_type": "markdown",
   "metadata": {},
   "source": [
    "The images are very small, grey and with a very low definition, such that it is hard to distinguish anything at all.\n",
    "However, it seems that the pictures with 10,000 data points have a lower background noise, in the sense that they look \"cleaner\" and more uniform."
   ]
  },
  {
   "cell_type": "markdown",
   "metadata": {},
   "source": [
    "### TO DO 7\n",
    "\n",
    "Report the best SVM model and its parameters, you found in the last notebook. Fit it on a few data points and compute its training and test scores."
   ]
  },
  {
   "cell_type": "code",
   "execution_count": 15,
   "metadata": {},
   "outputs": [
    {
     "name": "stdout",
     "output_type": "stream",
     "text": [
      "RESULTS FOR SVM\n",
      "Training score SVM:\n",
      "0.07379999999999998\n",
      "Test score SVM:\n",
      "0.15480000000000005\n"
     ]
    }
   ],
   "source": [
    "m_training = 5000\n",
    "\n",
    "X_train, X_test = X[:m_training], X[m_training:2*m_training]\n",
    "y_train, y_test = y[:m_training], y[m_training:2*m_training]\n",
    "\n",
    "# In my previous notebook the best SVM was the one using a linear kernel with C=0.1\n",
    "\n",
    "# Create the SVM and perform the fit\n",
    "best_SVM = SVC(C=0.1,kernel=\"linear\")\n",
    "best_SVM.fit(X_train,y_train)\n",
    "\n",
    "print ('RESULTS FOR SVM')\n",
    "\n",
    "SVM_training_error = 1. - best_SVM.score(X_train,y_train)\n",
    "print(\"Training score SVM:\")\n",
    "print(SVM_training_error)\n",
    "\n",
    "SVM_test_error = 1. - best_SVM.score(X_test,y_test)\n",
    "print(\"Test score SVM:\")\n",
    "print(SVM_test_error)"
   ]
  },
  {
   "cell_type": "markdown",
   "metadata": {
    "collapsed": true
   },
   "source": [
    "## QUESTION 5\n",
    "Compare the results of SVM and of NN. Which one would you preferer? Which are its tradeoffs?"
   ]
  },
  {
   "cell_type": "markdown",
   "metadata": {
    "collapsed": true
   },
   "source": [
    "The results between NNs and SVM are as follow: the training errors are 0.002 and 0.074 respectively, while the test errors are almost the same, 0.150 and 0.155 (considering their best performance over 10,000 data points).\n",
    "\n",
    "For the specific task of image classification, it seems in my opinion that Neural Networks are preferable over SVM: they are much faster (they do not need to select a model, for instance), more flexible and way more performing at feature extraction. However, on the other hand, SVM has a regularization parameter which generally makes it less prone to overfitting than NNs; also, a global and unique solution is guaranteed. One last aspect to consider is the number of (hyper)parameters: NNs need to be provided with less hyperparameters than SVM, which makes them at the same time more \"multi-purpose\" and straightforward yet, in a way, conceptually more obscure. "
   ]
  }
 ],
 "metadata": {
  "kernelspec": {
   "display_name": "Python 3",
   "language": "python",
   "name": "python3"
  },
  "language_info": {
   "codemirror_mode": {
    "name": "ipython",
    "version": 3
   },
   "file_extension": ".py",
   "mimetype": "text/x-python",
   "name": "python",
   "nbconvert_exporter": "python",
   "pygments_lexer": "ipython3",
   "version": "3.7.5"
  }
 },
 "nbformat": 4,
 "nbformat_minor": 2
}
