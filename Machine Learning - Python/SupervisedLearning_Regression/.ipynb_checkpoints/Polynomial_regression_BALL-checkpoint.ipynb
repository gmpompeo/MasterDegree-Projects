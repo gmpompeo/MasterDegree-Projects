{
 "cells": [
  {
   "cell_type": "markdown",
   "metadata": {},
   "source": [
    "# Polynomial Regression\n",
    "\n",
    "In this exercise you need to use polynomial regression to estimate the height reached by a ball thrown into air. The motion of the ball is controlled by the motion equation with uniform acceleration (in our case given by the gravity) that is a quadratic model. You need to estimate the initial height of the ball (h), the initial speed at which it was launched (v) and the gravity acceleration (g). The equation of the motion is : $y = h + vt + \\frac{1}{2} gt^2$ .\n",
    "In the height.csv file you can find the measured height values (subject to noise) while in time.csv file you can find the corresponding time instants."
   ]
  },
  {
   "cell_type": "code",
   "execution_count": 1,
   "metadata": {},
   "outputs": [],
   "source": [
    "#import the required packages\n",
    "import matplotlib.pyplot as plt\n",
    "import csv\n",
    "from scipy import stats\n",
    "import numpy as np\n",
    "import sklearn as sl\n",
    "from sklearn import linear_model"
   ]
  },
  {
   "cell_type": "code",
   "execution_count": 2,
   "metadata": {},
   "outputs": [
    {
     "name": "stdout",
     "output_type": "stream",
     "text": [
      "(201, 1)\n",
      "(201, 1)\n"
     ]
    }
   ],
   "source": [
    "# load the data from the time.csv (features) and height.csv (measured values) files\n",
    "with open('data/time.csv', 'r') as f:\n",
    "    reader = csv.reader(f, delimiter=',')\n",
    "    # get all the rows as a list\n",
    "    x = list(reader)\n",
    "    # transform x into numpy array\n",
    "    x = np.array(x).astype(float)\n",
    "    \n",
    "with open('data/height.csv', 'r') as f2:\n",
    "    reader2 = csv.reader(f2, delimiter=',')\n",
    "    # get all the rows as a list\n",
    "    y = list(reader2)\n",
    "    # transform data into numpy array\n",
    "    y = np.array(y).astype(float)\n",
    "    \n",
    "print(x.shape)\n",
    "print(y.shape)"
   ]
  },
  {
   "cell_type": "code",
   "execution_count": 3,
   "metadata": {},
   "outputs": [
    {
     "name": "stdout",
     "output_type": "stream",
     "text": [
      "slope (linregress):  0.22423930932968666   intercept (lnregress): 4.2153751087039835\n",
      "correlation coefficient: 0.08764757852933583\n"
     ]
    }
   ],
   "source": [
    "# try to perform a linear interpolation (it does not work properly, why ?)\n",
    "\n",
    "# ANSWER: the correlation coefficient is pretty close to 0, which signals a bad interpolation.\n",
    "# It goes without saying that the reason why this happens is because we are fitting linearly \n",
    "# two quantities that are connected through a quadratic relation.\n",
    "\n",
    "\n",
    "# you can use stats.linregress or linear_model.LinearRegression\n",
    "\n",
    "slope = 0 \n",
    "intercept = 0 \n",
    "r_value = 0 \n",
    "p_value = 0\n",
    "std_err = 0\n",
    "\n",
    "slope, intercept, r_value, p_value, std_err = stats.linregress(x[:,0],y[:,0])\n",
    "print('slope (linregress): ', slope,'  intercept (lnregress):', intercept)\n",
    "print('correlation coefficient:', r_value)"
   ]
  },
  {
   "cell_type": "code",
   "execution_count": 4,
   "metadata": {},
   "outputs": [
    {
     "name": "stdout",
     "output_type": "stream",
     "text": [
      "initial position:  [0.96499498]   initial speed: 10.024380403461107  gravity acceleration: -9.800141094131416\n",
      "correlation coefficient: 0.9977953125219581\n"
     ]
    }
   ],
   "source": [
    "# use polynomial regression (the feature vectors have three components:\n",
    "# they contain all 1s (for bias), the input data $x$ and their squared values $x^2$\n",
    "# for the regression you can use linear_model.LinearRegression\n",
    "\n",
    "dataX = np.zeros([201,3])\n",
    "h = 0\n",
    "v = 0 \n",
    "g = 0 \n",
    "sc = 0 \n",
    "\n",
    "\n",
    "dataX[:,0]=1\n",
    "dataX[:,1]=x[:,0]\n",
    "dataX[:,2]=x[:,0]**2\n",
    "#print(dataX)\n",
    "\n",
    "reg = sl.linear_model.LinearRegression()\n",
    "\n",
    "reg.fit(dataX, y)\n",
    "\n",
    "#print(reg.coef_)\n",
    "\n",
    "v=reg.coef_[0,1]\n",
    "g=2*reg.coef_[0,2]\n",
    "h=reg.intercept_\n",
    "\n",
    "sc=reg.score(dataX,y)\n",
    "\n",
    "#print(sc)\n",
    "\n",
    "print('initial position: ', h,'  initial speed:', v, ' gravity acceleration:', g )\n",
    "# reg.score produces the square of the correlation coefficient\n",
    "print('correlation coefficient:', np.sqrt(sc))"
   ]
  },
  {
   "cell_type": "markdown",
   "metadata": {},
   "source": [
    "# Question\n",
    "\n",
    "Explain what do you conclude looking at the linear and polynomial fitting."
   ]
  },
  {
   "cell_type": "code",
   "execution_count": 5,
   "metadata": {},
   "outputs": [
    {
     "data": {
      "image/png": "[encoded data removed]",
      "text/plain": [
       "<Figure size 432x288 with 1 Axes>"
      ]
     },
     "metadata": {
      "needs_background": "light"
     },
     "output_type": "display_data"
    }
   ],
   "source": [
    "# plot the input data and the estimated models\n",
    "plt.figure()\n",
    "plt.plot(x, y, 'bo', label='data')\n",
    "plt.plot(x, intercept + slope*x, 'g', label='linear fit')\n",
    "plt.plot(x, h+v*x+0.5*g*x**2, 'r', label='polynomial fit')\n",
    "plt.legend(shadow=True)\n",
    "plt.xlabel('Time [s]')\n",
    "plt.ylabel('Height [m]')\n",
    "plt.show()\n",
    "\n"
   ]
  },
  {
   "cell_type": "markdown",
   "metadata": {
    "collapsed": true
   },
   "source": [
    "**ANSWER** As already mentioned above, the linear fit is absolutely inappropriate for this quadratic model.\n",
    "On the other hand, there seems to be a great accordance with the polynomial model: this can be seen both from a graphical point of view and by comparing the correlation coefficients (for the poly fit is about 0.998, very good)."
   ]
  },
  {
   "cell_type": "code",
   "execution_count": null,
   "metadata": {},
   "outputs": [],
   "source": []
  }
 ],
 "metadata": {
  "kernelspec": {
   "display_name": "Python 3",
   "language": "python",
   "name": "python3"
  },
  "language_info": {
   "codemirror_mode": {
    "name": "ipython",
    "version": 3
   },
   "file_extension": ".py",
   "mimetype": "text/x-python",
   "name": "python",
   "nbconvert_exporter": "python",
   "pygments_lexer": "ipython3",
   "version": "3.7.5"
  }
 },
 "nbformat": 4,
 "nbformat_minor": 2
}
